{
 "cells": [
  {
   "cell_type": "code",
   "execution_count": null,
   "id": "f91c3964",
   "metadata": {},
   "outputs": [],
   "source": [
    "import numpy as np\n",
    "import pandas as pd\n",
    "import matplotlib as plt"
   ]
  },
  {
   "cell_type": "code",
   "execution_count": null,
   "id": "defe2fe4",
   "metadata": {},
   "outputs": [],
   "source": [
    "# Creamos los DataFrames y les asignamos un nombre\n",
    "\n",
    "bank_data = pd.read_csv('./Datos/bank-additional.csv')\n",
    "customers_data = pd.read_excel('./Datos/customer-details.xlsx')\n"
   ]
  },
  {
   "cell_type": "code",
   "execution_count": null,
   "id": "77dfd0ba",
   "metadata": {},
   "outputs": [],
   "source": [
    "# Primero vamos a tratar el DataFrame \"bank_data\"\n",
    "\n",
    "# Reemplaza comas por puntos y convierte a float\n",
    "cols_to_fix = ['cons.price.idx', 'cons.conf.idx', 'euribor3m']\n",
    "for col in cols_to_fix:\n",
    "    bank_data[col] = bank_data[col].str.replace(',', '.').astype(float)"
   ]
  },
  {
   "cell_type": "code",
   "execution_count": null,
   "id": "08af4271",
   "metadata": {},
   "outputs": [],
   "source": [
    "# Hay que arreglar el formato de la fecha\n",
    "\n",
    "meses_es = {\n",
    "    'enero': 'January', 'febrero': 'February', 'marzo': 'March',\n",
    "    'abril': 'April', 'mayo': 'May', 'junio': 'June',\n",
    "    'julio': 'July', 'agosto': 'August', 'septiembre': 'September',\n",
    "    'octubre': 'October', 'noviembre': 'November', 'diciembre': 'December'\n",
    "}\n",
    "\n",
    "def traducir_fecha(fecha):\n",
    "    if pd.isna(fecha):\n",
    "        return pd.NaT\n",
    "    for esp, eng in meses_es.items():\n",
    "        fecha = fecha.replace(esp, eng)\n",
    "    try:\n",
    "        return pd.to_datetime(fecha, format='%d-%B-%Y')\n",
    "    except ValueError:\n",
    "        return pd.NaT  # Por si falla el formato\n",
    "\n",
    "bank_data['date'] = bank_data['date'].apply(traducir_fecha)\n"
   ]
  },
  {
   "cell_type": "code",
   "execution_count": null,
   "id": "866675ed",
   "metadata": {},
   "outputs": [],
   "source": [
    "# La visualiazación de los DataFrames la he hecho con los siguientes métodos\n",
    "\n",
    "bank_data.head()\n",
    "customers_data.head()\n",
    "\n",
    "bank_data.info()\n",
    "customers_data.info()\n",
    "\n",
    "# No lo dejo en el fichero para una mayor limpieza"
   ]
  },
  {
   "cell_type": "code",
   "execution_count": null,
   "id": "2907eb1a",
   "metadata": {},
   "outputs": [],
   "source": [
    "customers_data.head()"
   ]
  },
  {
   "cell_type": "code",
   "execution_count": null,
   "id": "e68594e7",
   "metadata": {},
   "outputs": [],
   "source": [
    "# Viendo que el identificador de cliente de la tabla de \"customers_data\" está presente como identificador de operaciones en \"bank_data\"\n",
    "# podemos plantear la union de las tablas\n",
    "\n",
    "# La columna que no aporta información (\"Unnamed:0\") la eliminaremos una vez hecha la unión, para no hacerlo dos veces\n",
    "\n",
    "# Usaremos un left join siendo la izda bank_data, ya que queremos mantener todos sus registros y es customers_data la que enriquece a bank_data\n",
    "\n",
    "tabla_final = bank_data.merge(customers_data, left_on='id_', right_on='ID', how='left')\n",
    "tabla_final.head()"
   ]
  },
  {
   "cell_type": "code",
   "execution_count": null,
   "id": "1a703a73",
   "metadata": {},
   "outputs": [],
   "source": [
    "# Ahora vamos a ver cómo está la tabla final\n",
    "\n",
    "# Revisión general\n",
    "print(\"Tamaño de tabla_final:\", tabla_final.shape)\n",
    "\n",
    "# Verifica columnas clave\n",
    "print(\"\\n¿'id_' es única en bank_data? \", bank_data['id_'].is_unique)\n",
    "print(\"¿'ID' es única en customers_data? \", customers_data['ID'].is_unique)\n",
    "\n",
    "# Nulos por columna (solo las más relevantes)\n",
    "print(\"\\nNulos por columna:\")\n",
    "print(tabla_final[['Income', 'Kidhome', 'Teenhome', 'NumWebVisitsMonth']].isna().sum())\n",
    "\n",
    "# ¿Hay clientes sin datos de customers_data?\n",
    "missing_customers = tabla_final['Income'].isna().sum()\n",
    "print(f\"\\nClientes en tabla_final sin datos demográficos: {missing_customers}\")\n"
   ]
  },
  {
   "cell_type": "code",
   "execution_count": null,
   "id": "e2829772",
   "metadata": {},
   "outputs": [],
   "source": [
    "tabla_final.sample(10)"
   ]
  },
  {
   "cell_type": "code",
   "execution_count": null,
   "id": "28b85774",
   "metadata": {},
   "outputs": [],
   "source": [
    "# Eliminamos la columna innecesaria\n",
    "\n",
    "tabla_final = tabla_final.loc[:, ~tabla_final.columns.str.startswith('Unnamed')]\n",
    "tabla_final.head(1)"
   ]
  },
  {
   "cell_type": "code",
   "execution_count": null,
   "id": "3417d84e",
   "metadata": {},
   "outputs": [],
   "source": [
    "# Quizá no sea útil del todo, pero para estructurar mentalmente el análisis, creo que puede ser útil hacer que el id sea el índice del DataFrame\n",
    "\n",
    "tabla_final.set_index([\"id_\"], inplace = True)"
   ]
  },
  {
   "cell_type": "code",
   "execution_count": null,
   "id": "ae61d4f9",
   "metadata": {},
   "outputs": [],
   "source": [
    "tabla_final.index.name = 'id'"
   ]
  },
  {
   "cell_type": "code",
   "execution_count": null,
   "id": "1880cb40",
   "metadata": {},
   "outputs": [],
   "source": [
    "pd.set_option('display.max_columns', None)\n",
    "tabla_final.head(3)"
   ]
  },
  {
   "cell_type": "code",
   "execution_count": null,
   "id": "989648c2",
   "metadata": {},
   "outputs": [],
   "source": [
    "tabla_final.shape"
   ]
  },
  {
   "cell_type": "code",
   "execution_count": null,
   "id": "4a4d77e7",
   "metadata": {},
   "outputs": [],
   "source": [
    "# Atendiendo a realizar un análisis útil y con sentido, tenemos que tratar el tema de los valores nulos. Pienso que eliminar toda fila en la que haya un valor nulo es demasiado radical, \n",
    "# y por eso creo más sensato estudiar los datos de forma visual y empírica para tomar una decisión"
   ]
  },
  {
   "cell_type": "code",
   "execution_count": null,
   "id": "ed632727",
   "metadata": {},
   "outputs": [],
   "source": [
    "tabla_final['nulos_totales'] = tabla_final.isna().sum(axis=1)\n",
    "\n",
    "import matplotlib.pyplot as plt\n",
    "\n",
    "tabla_final['nulos_totales'].hist(bins=30)\n",
    "plt.title(\"Distribución de nulos por fila\")\n",
    "plt.xlabel(\"Cantidad de valores nulos\")\n",
    "plt.ylabel(\"Número de filas\")\n",
    "plt.show()\n"
   ]
  },
  {
   "cell_type": "code",
   "execution_count": null,
   "id": "30e5a9f2",
   "metadata": {},
   "outputs": [],
   "source": [
    "tabla_final['nulos_totales'].describe()\n"
   ]
  },
  {
   "cell_type": "code",
   "execution_count": null,
   "id": "8820ffd1",
   "metadata": {},
   "outputs": [],
   "source": [
    "# Atendiendo a la distribución y frecuencia de nulos: \n",
    "\n",
    "# Se eliminan las filas con más de 6 valores nulos, al representar registros con baja calidad informativa. Esta decisión se basa en la distribución de nulos observada, \n",
    "# que muestra una acumulación significativa de casos con 6 o más ausencias. El objetivo es mantener una base sólida para el análisis descriptivo y visual posterior sin \n",
    "# comprometer la integridad analítica del proyecto."
   ]
  },
  {
   "cell_type": "code",
   "execution_count": null,
   "id": "dc13296e",
   "metadata": {},
   "outputs": [],
   "source": [
    "# Aplicar el filtro\n",
    "tabla_final_limpia = tabla_final[tabla_final['nulos_totales'] <= 6].copy()\n",
    "\n",
    "# Eliminar la columna auxiliar\n",
    "tabla_final_limpia.drop(columns=['nulos_totales'], inplace=True)\n",
    "\n",
    "# Verificar el nuevo tamaño\n",
    "print(\"Tamaño después de limpieza:\", tabla_final_limpia.shape)\n"
   ]
  },
  {
   "cell_type": "code",
   "execution_count": null,
   "id": "63880546",
   "metadata": {},
   "outputs": [],
   "source": [
    "#Vamos a terminar de preparar nuestra tabla\n",
    "\n",
    "# 1. crear una columna con el número de hijos totales\n",
    "tabla_final_limpia['total_kids'] = tabla_final_limpia['Kidhome'] + tabla_final_limpia['Teenhome']"
   ]
  },
  {
   "cell_type": "code",
   "execution_count": null,
   "id": "960aa7cd",
   "metadata": {},
   "outputs": [],
   "source": [
    "\n",
    "# 2. crear una buena categorización para el nivel de estudios\n",
    "tabla_final_limpia['education'].unique()\n",
    "\n",
    "# Para adaptar el dato a nuestro sistema, vamos a realizar algunas suposiciones. todo basic. equivale a \"Educación Primaria\" y \"professional.course\" es \"Formación profesional\" y \n",
    "# el resto traducciones siguiendo el sentido común.\n",
    "def simplificar_educacion(valor):\n",
    "    if isinstance(valor, str):\n",
    "        if 'basic.' in valor:\n",
    "            return 'Primaria'\n",
    "        elif valor == 'professional.course':\n",
    "            return 'Formación profesional'\n",
    "        elif valor == 'high.school':\n",
    "            return 'Instituto'\n",
    "        elif valor == 'university.degree':\n",
    "            return 'Grado Universitario'\n",
    "        else:\n",
    "            return np.nan  # El resto se considera nulo\n",
    "    return np.nan\n",
    "\n",
    "# Aplicamos la función a una nueva columna (o la misma si quieres sobrescribir)\n",
    "tabla_final_limpia['education_simplificada'] = tabla_final_limpia['education'].apply(simplificar_educacion)\n",
    "tabla_final_limpia.drop(columns=['education'], inplace=True)\n",
    "tabla_final_limpia.head()\n"
   ]
  },
  {
   "cell_type": "code",
   "execution_count": null,
   "id": "1d3e5a47",
   "metadata": {},
   "outputs": [],
   "source": [
    "# 3. crear una buena categorización para el estado civil\n",
    "tabla_final_limpia['marital'].unique()\n",
    "\n",
    "def simplificar_marital(valor):\n",
    "    if isinstance(valor, str):\n",
    "        if 'MARRIED' in valor:\n",
    "            return 'Casado'\n",
    "        elif valor == 'SINGLE':\n",
    "            return 'Soltero'\n",
    "        elif valor == 'DIVORCED':\n",
    "            return 'Divorciado'\n",
    "        else:\n",
    "            return np.nan  # El resto se considera nulo\n",
    "    return np.nan\n",
    "\n",
    "# Aplicamos la función a una nueva columna (o la misma si quieres sobrescribir)\n",
    "tabla_final_limpia['estado_civil'] = tabla_final_limpia['marital'].apply(simplificar_marital)\n",
    "tabla_final_limpia.drop(columns=['marital'], inplace=True)\n",
    "tabla_final_limpia.head()"
   ]
  },
  {
   "cell_type": "code",
   "execution_count": null,
   "id": "ca49ae5f",
   "metadata": {},
   "outputs": [],
   "source": [
    "# 4. Desechar columnas que no vaya a usar: he intenado instalar extensiones y ficheros que transformaran coordenadas en ciudades, pero no me ha dado resultado.\n",
    "# Para una mejor gestión de recursos, también eliminaré 'nr.employed', 'ID', \"euribor3m\" y \"cons.conf.idx\" porque no me parece que vayan a dar más información que la fácilmente deducible\n",
    "\n",
    "tabla_final_limpia.drop(columns=['latitude', 'longitude', 'euribor3m', 'cons.conf.idx', 'nr.employed', 'ID'], inplace=True)\n",
    "tabla_final_limpia.head(3)"
   ]
  },
  {
   "cell_type": "code",
   "execution_count": null,
   "id": "1d052812",
   "metadata": {},
   "outputs": [],
   "source": [
    "# Ahora vamos a seguir preparando los datos de mejor forma\n",
    "\n",
    "traducciones = {\n",
    "    'Income': 'Ingresos',\n",
    "    'age': 'Edad',\n",
    "    'default': 'Incumplimiento pagos',\n",
    "    'contact': 'Contacto con cliente',\n",
    "    'duration': 'Duración última llamada',\n",
    "    'campaign': 'Contactos con cliente',\n",
    "    'pdays': 'Días desde último contacto',\n",
    "    'previous': 'Contactos pre-campaña',\n",
    "    'poutcome':'Resultado campaña anterior',\n",
    "    'emp.var.rate': 'Tasa variación empleo',\n",
    "    'cons.price.idx': 'IPC',\n",
    "    'date': 'Fecha interacción',\n",
    "    'Dt_Customer': 'Fecha inicio cliente',\n",
    "    'Kidhome': 'Hijos pequeños',\n",
    "    'Teenhome': 'Hijos adolescentes',\n",
    "    'total_kids': 'Total hijos',\n",
    "    'job': 'Trabajo',\n",
    "    'marital': 'Estado civil',\n",
    "    'housing': 'Tiene hipoteca',\n",
    "    'loan': 'Tiene préstamo',\n",
    "    'y': 'Respuesta campaña',\n",
    "    'education_simplificada': 'Nivel educativo',\n",
    "    'NumWebVisitsMonth': 'Visitas web mes'\n",
    "}\n",
    "\n",
    "tabla_final_limpia.rename(columns=traducciones, inplace=True)\n",
    "\n",
    "tabla_final_limpia.head()"
   ]
  },
  {
   "cell_type": "code",
   "execution_count": null,
   "id": "334a8788",
   "metadata": {},
   "outputs": [],
   "source": [
    "tabla_final_limpia.to_excel(\"tabla_final_definitiva.xlsx\", index=False)\n"
   ]
  }
 ],
 "metadata": {
  "kernelspec": {
   "display_name": "Python 3",
   "language": "python",
   "name": "python3"
  },
  "language_info": {
   "codemirror_mode": {
    "name": "ipython",
    "version": 3
   },
   "file_extension": ".py",
   "mimetype": "text/x-python",
   "name": "python",
   "nbconvert_exporter": "python",
   "pygments_lexer": "ipython3",
   "version": "3.13.3"
  }
 },
 "nbformat": 4,
 "nbformat_minor": 5
}
